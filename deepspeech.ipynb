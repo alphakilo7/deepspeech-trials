{
 "cells": [
  {
   "cell_type": "markdown",
   "id": "41f53f18",
   "metadata": {},
   "source": [
    "# Speech-to-Text Engine\n",
    "This is a simple implementation of **Mozilla's DeepSpeech** STT (speech-to-text) library.\n",
    "\n",
    "Reference: [YouTube - Speech to Text using Python - Fast and Accurate](https://www.youtube.com/watch?v=iWha--55Lz0)\n",
    "\n",
    "Follow the below instructions to run this notebook."
   ]
  },
  {
   "cell_type": "markdown",
   "id": "1a00e4e5",
   "metadata": {},
   "source": [
    "#### Create Virtual Environment\n",
    "```bash\n",
    "python -m venv deepspeech-env\n",
    "# On Windows\n",
    ".\\deepspeech-env\\Scripts\\activate\n",
    "# On Linux\n",
    "source ./deepspeech-env/bin/activate\n",
    "```\n",
    "\n",
    "#### Install Dependencies\n",
    "```shell\n",
    "python -m pip install --upgrade pip\n",
    "pip install numpy pandas notebook deepspeech\n",
    "```\n",
    "\n",
    "#### Download the required files\n",
    "```bash\n",
    "# Get model files\n",
    "wget https://github.com/mozilla/DeepSpeech/releases/download/v0.9.3/deepspeech-0.9.3-models.pbmm\n",
    "wget https://github.com/mozilla/DeepSpeech/releases/download/v0.9.3/deepspeech-0.9.3-models.scorer\n",
    "\n",
    "# Get sample audio files\n",
    "curl -LO https://github.com/mozilla/DeepSpeech/releases/download/v0.9.3/audio-0.9.3.tar.gz\n",
    "wget -O speech.wav https://github.com/EN10/DeepSpeech/blob/master/woman1_wb.wav?raw=true\n",
    "\n",
    "# Unpack audio files\n",
    "tar -zxvf audio-0.9.3.tar.gz\n",
    "```\n",
    "---"
   ]
  },
  {
   "cell_type": "markdown",
   "id": "0a8c7be3",
   "metadata": {},
   "source": [
    "### Import the requirements"
   ]
  },
  {
   "cell_type": "code",
   "execution_count": null,
   "id": "2cef16c8",
   "metadata": {},
   "outputs": [],
   "source": [
    "import os\n",
    "import wave\n",
    "\n",
    "import numpy as np\n",
    "\n",
    "from pathlib import Path\n",
    "\n",
    "from deepspeech import Model\n",
    "from IPython.display import Audio"
   ]
  },
  {
   "cell_type": "markdown",
   "id": "99b1ac02",
   "metadata": {},
   "source": [
    "### Define Constants"
   ]
  },
  {
   "cell_type": "code",
   "execution_count": null,
   "id": "75019c1b",
   "metadata": {
    "scrolled": false
   },
   "outputs": [],
   "source": [
    "# Base directory\n",
    "BASE_DIR = Path(os.getcwd()).resolve()\n",
    "\n",
    "# Model and scorer files\n",
    "MODEL_FILE = str(BASE_DIR / \"deepspeech-0.9.3-models.pbmm\")\n",
    "SCORER_FILE = str(BASE_DIR / \"deepspeech-0.9.3-models.scorer\")\n",
    "\n",
    "# Model tuning values\n",
    "BEAM_WIDTH = 500\n",
    "LM_ALPHA = 0.93\n",
    "LM_BETA = 1.18"
   ]
  },
  {
   "cell_type": "markdown",
   "id": "f9affeb8",
   "metadata": {},
   "source": [
    "### Initiate and Tune the Model"
   ]
  },
  {
   "cell_type": "code",
   "execution_count": null,
   "id": "c648223f",
   "metadata": {},
   "outputs": [],
   "source": [
    "# Initiate\n",
    "model = Model(MODEL_FILE)\n",
    "model.enableExternalScorer(SCORER_FILE)\n",
    "\n",
    "# Tune\n",
    "model.setScorerAlphaBeta(LM_ALPHA, LM_BETA)\n",
    "model.setBeamWidth(BEAM_WIDTH)"
   ]
  },
  {
   "cell_type": "markdown",
   "id": "77187854",
   "metadata": {},
   "source": [
    "### Function `read_wav_file`\n",
    "A function to read the audio file `.wav` and return its buffer"
   ]
  },
  {
   "cell_type": "code",
   "execution_count": null,
   "id": "9e1aa228",
   "metadata": {},
   "outputs": [],
   "source": [
    "def read_wav_file(file: Path) -> tuple:\n",
    "    with wave.open(file, \"rb\") as wav_file:\n",
    "        rate = wav_file.getframerate()\n",
    "        frames = wav_file.getnframes()\n",
    "        buffer = wav_file.readframes(frames)\n",
    "        print(rate)\n",
    "        print(frames)\n",
    "\n",
    "    return buffer, rate"
   ]
  },
  {
   "cell_type": "markdown",
   "id": "f51af916",
   "metadata": {},
   "source": [
    "### Function `transcribe`\n",
    "Actual function that converts speech to text. Takes audio file as an input"
   ]
  },
  {
   "cell_type": "code",
   "execution_count": null,
   "id": "23546ece",
   "metadata": {},
   "outputs": [],
   "source": [
    "def transcribe(audio_file: Path) -> str:\n",
    "    buffer, rate = read_wav_file(audio_file)\n",
    "    data16 = np.frombuffer(buffer, dtype=np.int16)\n",
    "    \n",
    "    return model.stt(data16)"
   ]
  },
  {
   "cell_type": "markdown",
   "id": "09ede85c",
   "metadata": {},
   "source": [
    "### Listen to the Audio files"
   ]
  },
  {
   "cell_type": "code",
   "execution_count": null,
   "id": "62929b8d",
   "metadata": {},
   "outputs": [],
   "source": [
    "Audio(BASE_DIR / \"audio\" / \"4507-16021-0012.wav\")"
   ]
  },
  {
   "cell_type": "code",
   "execution_count": null,
   "id": "ede7e308",
   "metadata": {
    "scrolled": true
   },
   "outputs": [],
   "source": [
    "Audio(BASE_DIR / \"audio\" / \"8455-210777-0068.wav\")"
   ]
  },
  {
   "cell_type": "code",
   "execution_count": null,
   "id": "99f7a66d",
   "metadata": {
    "scrolled": true
   },
   "outputs": [],
   "source": [
    "Audio(BASE_DIR / \"audio\" / \"2830-3980-0043.wav\")"
   ]
  },
  {
   "cell_type": "code",
   "execution_count": null,
   "id": "137647bb",
   "metadata": {
    "scrolled": true
   },
   "outputs": [],
   "source": [
    "Audio(BASE_DIR / \"speech.wav\")"
   ]
  },
  {
   "cell_type": "markdown",
   "id": "0461abc9",
   "metadata": {},
   "source": [
    "### Convert Speech to Text using `transcribe` function"
   ]
  },
  {
   "cell_type": "code",
   "execution_count": null,
   "id": "8ab62e58",
   "metadata": {},
   "outputs": [],
   "source": [
    "transcribe(str(BASE_DIR / \"audio\" / \"4507-16021-0012.wav\"))"
   ]
  },
  {
   "cell_type": "code",
   "execution_count": null,
   "id": "7a0c2a0d",
   "metadata": {},
   "outputs": [],
   "source": [
    "transcribe(str(BASE_DIR / \"audio\" / \"2830-3980-0043.wav\"))"
   ]
  },
  {
   "cell_type": "code",
   "execution_count": null,
   "id": "69ba7a35",
   "metadata": {},
   "outputs": [],
   "source": [
    "transcribe(str(BASE_DIR / \"audio\" / \"8455-210777-0068.wav\"))"
   ]
  },
  {
   "cell_type": "code",
   "execution_count": null,
   "id": "7004c4ea",
   "metadata": {},
   "outputs": [],
   "source": [
    "transcribe(str(BASE_DIR / \"speech.wav\"))"
   ]
  },
  {
   "cell_type": "code",
   "execution_count": null,
   "id": "b23cffd4",
   "metadata": {},
   "outputs": [],
   "source": [
    "transcribe(str(BASE_DIR / \"speech-002.wav\"))"
   ]
  },
  {
   "cell_type": "code",
   "execution_count": null,
   "id": "588223cf",
   "metadata": {},
   "outputs": [],
   "source": [
    "transcribe(str(BASE_DIR / \"speech-003.wav\"))"
   ]
  },
  {
   "cell_type": "code",
   "execution_count": null,
   "id": "8e210fe2",
   "metadata": {},
   "outputs": [],
   "source": [
    "transcribe(str(BASE_DIR / \"speech-004.wav\"))"
   ]
  },
  {
   "cell_type": "code",
   "execution_count": null,
   "id": "81195196",
   "metadata": {},
   "outputs": [],
   "source": [
    "transcribe(str(BASE_DIR / \"speech-005.wav\"))"
   ]
  },
  {
   "cell_type": "code",
   "execution_count": null,
   "id": "686f673e",
   "metadata": {},
   "outputs": [],
   "source": [
    "transcribe(str(BASE_DIR / \"speech-006.wav\"))"
   ]
  }
 ],
 "metadata": {
  "kernelspec": {
   "display_name": "Python 3 (ipykernel)",
   "language": "python",
   "name": "python3"
  },
  "language_info": {
   "codemirror_mode": {
    "name": "ipython",
    "version": 3
   },
   "file_extension": ".py",
   "mimetype": "text/x-python",
   "name": "python",
   "nbconvert_exporter": "python",
   "pygments_lexer": "ipython3",
   "version": "3.9.4"
  }
 },
 "nbformat": 4,
 "nbformat_minor": 5
}
